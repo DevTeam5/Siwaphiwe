{
 "cells": [
  {
   "cell_type": "code",
   "execution_count": 6,
   "metadata": {},
   "outputs": [
    {
     "name": "stdout",
     "output_type": "stream",
     "text": [
      "Requirement already satisfied: pymongo in c:\\users\\student-cpt-033\\appdata\\local\\continuum\\anaconda3\\lib\\site-packages (3.4.0)\n",
      "Note: you may need to restart the kernel to use updated packages.\n"
     ]
    }
   ],
   "source": [
    "pip install pymongo"
   ]
  },
  {
   "cell_type": "code",
   "execution_count": 27,
   "metadata": {},
   "outputs": [
    {
     "name": "stdout",
     "output_type": "stream",
     "text": [
      "{'_id': ObjectId('5e57761a5c1cdb3fd40709eb'), 'Type': 'Chips', 'Products': 'Doritos', 'Prices': '15', 'Quantity': 20}\n",
      "{'_id': ObjectId('5e57761a5c1cdb3fd40709ec'), 'Type': '', 'Products': 'Lays', 'Prices': '12', 'Quantity': 15}\n",
      "{'_id': ObjectId('5e57761a5c1cdb3fd40709ed'), 'Type': '', 'Products': 'NikNaks', 'Prices': '5', 'Quantity': 30}\n",
      "{'_id': ObjectId('5e57761a5c1cdb3fd40709ee'), 'Type': '', 'Products': 'Simba', 'Prices': '18', 'Quantity': 18}\n",
      "{'_id': ObjectId('5e57761a5c1cdb3fd40709f0'), 'Type': 'Cooldrink', 'Products': 'Fanta', 'Prices': '11', 'Quantity': 10}\n",
      "{'_id': ObjectId('5e57761a5c1cdb3fd40709f1'), 'Type': '', 'Products': 'Sprite', 'Prices': '14', 'Quantity': 10}\n",
      "{'_id': ObjectId('5e57761a5c1cdb3fd40709f2'), 'Type': '', 'Products': 'Jive', 'Prices': '10', 'Quantity': 20}\n",
      "{'_id': ObjectId('5e57761a5c1cdb3fd40709f3'), 'Type': '', 'Products': 'Score', 'Prices': '10', 'Quantity': 15}\n",
      "{'_id': ObjectId('5e57761a5c1cdb3fd40709f5'), 'Type': 'Chocolate', 'Products': ' Ps', 'Prices': '8', 'Quantity': 20}\n",
      "{'_id': ObjectId('5e57761a5c1cdb3fd40709f6'), 'Type': '', 'Products': 'KitKat', 'Prices': '10', 'Quantity': 15}\n",
      "{'_id': ObjectId('5e57761a5c1cdb3fd40709f7'), 'Type': '', 'Products': 'Bar-one', 'Prices': '13', 'Quantity': 5}\n",
      "{'_id': ObjectId('5e57761a5c1cdb3fd40709f8'), 'Type': '', 'Products': 'Tex', 'Prices': '7', 'Quantity': 25}\n",
      "{'_id': ObjectId('5e57761a5c1cdb3fd40709fa'), 'Type': 'Pies', 'Products': 'Chicken', 'Prices': '15', 'Quantity': 1}\n",
      "{'_id': ObjectId('5e57761a5c1cdb3fd40709fb'), 'Type': '', 'Products': 'Burger', 'Prices': '20', 'Quantity': 2}\n",
      "{'_id': ObjectId('5e57761a5c1cdb3fd40709fc'), 'Type': '', 'Products': 'steak', 'Prices': '18', 'Quantity': 3}\n",
      "{'_id': ObjectId('5e57761a5c1cdb3fd40709fd'), 'Type': '', 'Products': 'pepper', 'Prices': '15', 'Quantity': 4}\n",
      "{'_id': ObjectId('5e57761a5c1cdb3fd40709ff'), 'Type': 'Fruit', 'Products': 'Guava', 'Prices': '10', 'Quantity': 20}\n",
      "{'_id': ObjectId('5e57761a5c1cdb3fd4070a00'), 'Type': '', 'Products': 'Peach', 'Prices': '12', 'Quantity': 15}\n",
      "{'_id': ObjectId('5e57761a5c1cdb3fd4070a01'), 'Type': '', 'Products': 'Pear', 'Prices': '8', 'Quantity': 30}\n",
      "{'_id': ObjectId('5e57761a5c1cdb3fd4070a02'), 'Type': '', 'Products': 'Banana', 'Prices': '15', 'Quantity': 10}\n",
      "{'_id': ObjectId('5e57761a5c1cdb3fd4070a04'), 'Type': 'Cupcakes', 'Products': 'Vanilla', 'Prices': '20', 'Quantity': 20}\n",
      "{'_id': ObjectId('5e57761a5c1cdb3fd4070a05'), 'Type': '', 'Products': 'Chocmint', 'Prices': '17', 'Quantity': 20}\n",
      "{'_id': ObjectId('5e57761a5c1cdb3fd4070a06'), 'Type': '', 'Products': 'Browny', 'Prices': '22', 'Quantity': 15}\n",
      "{'_id': ObjectId('5e57761a5c1cdb3fd4070a07'), 'Type': '', 'Products': 'Chocolate', 'Prices': '20', 'Quantity': 10}\n",
      "{'_id': ObjectId('5e57761a5c1cdb3fd4070a09'), 'Type': 'Veggies', 'Products': 'Potatoes', 'Prices': '25', 'Quantity': 10}\n",
      "{'_id': ObjectId('5e57761a5c1cdb3fd4070a0a'), 'Type': '', 'Products': 'Spinach', 'Prices': '15', 'Quantity': 10}\n",
      "{'_id': ObjectId('5e57761a5c1cdb3fd4070a0b'), 'Type': '', 'Products': 'Onion', 'Prices': '10', 'Quantity': 10}\n",
      "{'_id': ObjectId('5e57761a5c1cdb3fd4070a0c'), 'Type': '', 'Products': 'Butternut', 'Prices': '12', 'Quantity': 10}\n"
     ]
    }
   ],
   "source": [
    "import json\n",
    "import pymongo\n",
    "import pandas as pd\n",
    "myclient = pymongo.MongoClient(\"mongodb://localhost:27017\")\n",
    "mydb = myclient[\"Data_Tracker\"]\n",
    "\n",
    "\n",
    "mycol1 = mydb[\"Products\"]\n",
    "\n",
    "for x in mycol1.find():\n",
    "    print(x)"
   ]
  },
  {
   "cell_type": "code",
   "execution_count": 14,
   "metadata": {},
   "outputs": [
    {
     "name": "stdout",
     "output_type": "stream",
     "text": [
      "{'_id': 1, 'Type': 'Chips', 'Product': 'Niknaks', 'Price': 5, 'Quantity': 30}\n",
      "{'_id': 2, 'Type': 'Chocolate', 'Product': 'Tex', 'Price': 7, 'Quantity': 25}\n",
      "{'_id': 3, 'Type': 'Cooldrink', 'Product': 'Jive', 'Price': 10, 'Quantity': 20}\n"
     ]
    }
   ],
   "source": [
    "mycol = mydb[\"Top 3\"]\n",
    "\n",
    "mylist = [\n",
    "  { \"_id\": 1, \"Type\": \"Chips\",\"Product\":\"Niknaks\",\"Price\":5,\"Quantity\":30},\n",
    "  { \"_id\": 2, \"Type\": \"Chocolate\",\"Product\":\"Tex\",\"Price\":7,\"Quantity\":25},\n",
    "  { \"_id\": 3, \"Type\": \"Cooldrink\",\"Product\":\"Jive\",\"Price\":10,\"Quantity\":20}]\n",
    "\n",
    "x = mycol.insert_many(mylist)\n",
    "\n",
    "for x in mycol.find():\n",
    "    print(x)"
   ]
  },
  {
   "cell_type": "code",
   "execution_count": 11,
   "metadata": {},
   "outputs": [
    {
     "name": "stdout",
     "output_type": "stream",
     "text": [
      "{'_id': 1, 'Type': 'Chips', 'Product': 'Niknaks', 'Price': 5, 'Quantity': 30}\n",
      "{'_id': 2, 'Type': 'Chocolate', 'Product': 'Tex', 'Price': 7, 'Quantity': 25}\n",
      "{'_id': 3, 'Type': 'Cooldrink', 'Product': 'Jive', 'Price': 11, 'Quantity': 20}\n",
      "{'_id': 5, 'Type': 'Fruit', 'Product': 'Pear', 'Price': 8, 'Quantity': 30}\n"
     ]
    }
   ],
   "source": [
    "mycol = mydb[\"Top 3\"]\n",
    "\n",
    "for x in mycol.find():\n",
    "    print(x)"
   ]
  },
  {
   "cell_type": "code",
   "execution_count": 19,
   "metadata": {},
   "outputs": [
    {
     "name": "stdout",
     "output_type": "stream",
     "text": [
      "{'_id': 1, 'Type': 'Chips', 'Product': 'Niknaks', 'Price': 5, 'Quantity': 30}\n",
      "{'_id': 2, 'Type': 'Chocolate', 'Product': 'Tex', 'Price': 7, 'Quantity': 25}\n",
      "{'_id': 3, 'Type': 'Cooldrink', 'Product': 'Jive', 'Price': 10, 'Quantity': 20}\n",
      "{'_id': 4, 'Type': 'Pies', 'Product': 'Steak', 'Price': 18, 'Quantity': 20}\n",
      "{'_id': 5, 'Type': 'Fruit', 'Product': 'Pear', 'Price': 8, 'Quantity': 30}\n",
      "{'_id': 6, 'Type': 'Cupcakes', 'Product': 'Vanilla', 'Price': 20, 'Quantity': 20}\n"
     ]
    }
   ],
   "source": [
    "mylist = [\n",
    "  { \"_id\": 4, \"Type\": \"Pies\",\"Product\":\"Steak\",\"Price\":18,\"Quantity\":20},  #adding the least 3 items on my list                 \n",
    "  { \"_id\": 5, \"Type\": \"Fruit\",\"Product\":\"Pear\",\"Price\":8,\"Quantity\":30},\n",
    "  { \"_id\": 6, \"Type\": \"Cupcakes\",\"Product\":\"Vanilla\",\"Price\":20,\"Quantity\":20}]\n",
    "\n",
    "x = mycol.insert_many(mylist)\n",
    "\n",
    "for x in mycol.find():\n",
    "    print(x)\n"
   ]
  },
  {
   "cell_type": "code",
   "execution_count": 28,
   "metadata": {},
   "outputs": [
    {
     "name": "stdout",
     "output_type": "stream",
     "text": [
      "{'_id': ObjectId('5e57761a5c1cdb3fd4070a09'), 'Type': 'Veggies', 'Products': 'Potatoes', 'Prices': '25', 'Quantity': 10}\n",
      "{'_id': ObjectId('5e57761a5c1cdb3fd40709fa'), 'Type': 'Pies', 'Products': 'Chicken', 'Prices': '15', 'Quantity': 1}\n",
      "{'_id': ObjectId('5e57761a5c1cdb3fd40709ff'), 'Type': 'Fruit', 'Products': 'Guava', 'Prices': '10', 'Quantity': 20}\n",
      "{'_id': ObjectId('5e57761a5c1cdb3fd4070a04'), 'Type': 'Cupcakes', 'Products': 'Vanilla', 'Prices': '20', 'Quantity': 20}\n",
      "{'_id': ObjectId('5e57761a5c1cdb3fd40709f0'), 'Type': 'Cooldrink', 'Products': 'Fanta', 'Prices': '11', 'Quantity': 10}\n",
      "{'_id': ObjectId('5e57761a5c1cdb3fd40709f5'), 'Type': 'Chocolate', 'Products': ' Ps', 'Prices': '8', 'Quantity': 20}\n",
      "{'_id': ObjectId('5e57761a5c1cdb3fd40709eb'), 'Type': 'Chips', 'Products': 'Doritos', 'Prices': '15', 'Quantity': 20}\n",
      "{'_id': ObjectId('5e57761a5c1cdb3fd40709ec'), 'Type': '', 'Products': 'Lays', 'Prices': '12', 'Quantity': 15}\n",
      "{'_id': ObjectId('5e57761a5c1cdb3fd40709ed'), 'Type': '', 'Products': 'NikNaks', 'Prices': '5', 'Quantity': 30}\n",
      "{'_id': ObjectId('5e57761a5c1cdb3fd40709ee'), 'Type': '', 'Products': 'Simba', 'Prices': '18', 'Quantity': 18}\n",
      "{'_id': ObjectId('5e57761a5c1cdb3fd40709f1'), 'Type': '', 'Products': 'Sprite', 'Prices': '14', 'Quantity': 10}\n",
      "{'_id': ObjectId('5e57761a5c1cdb3fd40709f2'), 'Type': '', 'Products': 'Jive', 'Prices': '10', 'Quantity': 20}\n",
      "{'_id': ObjectId('5e57761a5c1cdb3fd40709f3'), 'Type': '', 'Products': 'Score', 'Prices': '10', 'Quantity': 15}\n",
      "{'_id': ObjectId('5e57761a5c1cdb3fd40709f6'), 'Type': '', 'Products': 'KitKat', 'Prices': '10', 'Quantity': 15}\n",
      "{'_id': ObjectId('5e57761a5c1cdb3fd40709f7'), 'Type': '', 'Products': 'Bar-one', 'Prices': '13', 'Quantity': 5}\n",
      "{'_id': ObjectId('5e57761a5c1cdb3fd40709f8'), 'Type': '', 'Products': 'Tex', 'Prices': '7', 'Quantity': 25}\n",
      "{'_id': ObjectId('5e57761a5c1cdb3fd40709fb'), 'Type': '', 'Products': 'Burger', 'Prices': '20', 'Quantity': 2}\n",
      "{'_id': ObjectId('5e57761a5c1cdb3fd40709fc'), 'Type': '', 'Products': 'steak', 'Prices': '18', 'Quantity': 3}\n",
      "{'_id': ObjectId('5e57761a5c1cdb3fd40709fd'), 'Type': '', 'Products': 'pepper', 'Prices': '15', 'Quantity': 4}\n",
      "{'_id': ObjectId('5e57761a5c1cdb3fd4070a00'), 'Type': '', 'Products': 'Peach', 'Prices': '12', 'Quantity': 15}\n",
      "{'_id': ObjectId('5e57761a5c1cdb3fd4070a01'), 'Type': '', 'Products': 'Pear', 'Prices': '8', 'Quantity': 30}\n",
      "{'_id': ObjectId('5e57761a5c1cdb3fd4070a02'), 'Type': '', 'Products': 'Banana', 'Prices': '15', 'Quantity': 10}\n",
      "{'_id': ObjectId('5e57761a5c1cdb3fd4070a05'), 'Type': '', 'Products': 'Chocmint', 'Prices': '17', 'Quantity': 20}\n",
      "{'_id': ObjectId('5e57761a5c1cdb3fd4070a06'), 'Type': '', 'Products': 'Browny', 'Prices': '22', 'Quantity': 15}\n",
      "{'_id': ObjectId('5e57761a5c1cdb3fd4070a07'), 'Type': '', 'Products': 'Chocolate', 'Prices': '20', 'Quantity': 10}\n",
      "{'_id': ObjectId('5e57761a5c1cdb3fd4070a0a'), 'Type': '', 'Products': 'Spinach', 'Prices': '15', 'Quantity': 10}\n",
      "{'_id': ObjectId('5e57761a5c1cdb3fd4070a0b'), 'Type': '', 'Products': 'Onion', 'Prices': '10', 'Quantity': 10}\n",
      "{'_id': ObjectId('5e57761a5c1cdb3fd4070a0c'), 'Type': '', 'Products': 'Butternut', 'Prices': '12', 'Quantity': 10}\n"
     ]
    }
   ],
   "source": [
    "mydoc = mycol1.find().sort(\"Type\", -1)\n",
    "\n",
    "for x in mydoc:\n",
    "    print(x)"
   ]
  },
  {
   "cell_type": "code",
   "execution_count": 22,
   "metadata": {},
   "outputs": [
    {
     "data": {
      "text/plain": [
       "<pymongo.results.DeleteResult at 0x20b9beefcc8>"
      ]
     },
     "execution_count": 22,
     "metadata": {},
     "output_type": "execute_result"
    }
   ],
   "source": [
    "myquery = { \"Type\": \"Pies\" }\n",
    "\n",
    "mycol.delete_one(myquery)"
   ]
  },
  {
   "cell_type": "code",
   "execution_count": 23,
   "metadata": {},
   "outputs": [
    {
     "name": "stdout",
     "output_type": "stream",
     "text": [
      "{'_id': 1, 'Type': 'Chips', 'Product': 'Niknaks', 'Price': 5, 'Quantity': 30}\n",
      "{'_id': 2, 'Type': 'Chocolate', 'Product': 'Tex', 'Price': 7, 'Quantity': 25}\n",
      "{'_id': 3, 'Type': 'Cooldrink', 'Product': 'Jive', 'Price': 10, 'Quantity': 20}\n",
      "{'_id': 5, 'Type': 'Fruit', 'Product': 'Pear', 'Price': 8, 'Quantity': 30}\n",
      "{'_id': 6, 'Type': 'Cupcakes', 'Product': 'Vanilla', 'Price': 20, 'Quantity': 20}\n"
     ]
    }
   ],
   "source": [
    "for x in mycol.find():\n",
    "    print(x)"
   ]
  },
  {
   "cell_type": "code",
   "execution_count": 24,
   "metadata": {},
   "outputs": [
    {
     "data": {
      "text/plain": [
       "<pymongo.results.DeleteResult at 0x20b9bf63048>"
      ]
     },
     "execution_count": 24,
     "metadata": {},
     "output_type": "execute_result"
    }
   ],
   "source": [
    "myquery = { \"Type\": \"Cupcakes\" }\n",
    "\n",
    "mycol.delete_one(myquery)"
   ]
  },
  {
   "cell_type": "code",
   "execution_count": 25,
   "metadata": {},
   "outputs": [
    {
     "name": "stdout",
     "output_type": "stream",
     "text": [
      "{'_id': 1, 'Type': 'Chips', 'Product': 'Niknaks', 'Price': 5, 'Quantity': 30}\n",
      "{'_id': 2, 'Type': 'Chocolate', 'Product': 'Tex', 'Price': 7, 'Quantity': 25}\n",
      "{'_id': 3, 'Type': 'Cooldrink', 'Product': 'Jive', 'Price': 10, 'Quantity': 20}\n",
      "{'_id': 5, 'Type': 'Fruit', 'Product': 'Pear', 'Price': 8, 'Quantity': 30}\n"
     ]
    }
   ],
   "source": [
    "for x in mycol.find():\n",
    "    print(x)"
   ]
  },
  {
   "cell_type": "code",
   "execution_count": 26,
   "metadata": {},
   "outputs": [
    {
     "name": "stdout",
     "output_type": "stream",
     "text": [
      "{'_id': 1, 'Type': 'Chips', 'Product': 'Niknaks', 'Price': 5, 'Quantity': 30}\n",
      "{'_id': 2, 'Type': 'Chocolate', 'Product': 'Tex', 'Price': 7, 'Quantity': 25}\n",
      "{'_id': 3, 'Type': 'Cooldrink', 'Product': 'Jive', 'Price': 11, 'Quantity': 20}\n",
      "{'_id': 5, 'Type': 'Fruit', 'Product': 'Pear', 'Price': 8, 'Quantity': 30}\n"
     ]
    }
   ],
   "source": [
    "myquery = { \"Type\": \"Cooldrink\" }\n",
    "newvalues = { \"$set\": { \"Price\": 11 } }\n",
    "\n",
    "mycol.update_one(myquery, newvalues)\n",
    "\n",
    "#print \"customers\" after the update:\n",
    "for x in mycol.find():\n",
    "    print(x)"
   ]
  },
  {
   "cell_type": "code",
   "execution_count": 30,
   "metadata": {},
   "outputs": [
    {
     "data": {
      "text/plain": [
       "1"
      ]
     },
     "execution_count": 30,
     "metadata": {},
     "output_type": "execute_result"
    }
   ],
   "source": [
    "mycol1.find_one(sort=[(\"Quantity\", 1)])[\"Quantity\"]\n"
   ]
  },
  {
   "cell_type": "code",
   "execution_count": 31,
   "metadata": {},
   "outputs": [
    {
     "name": "stdout",
     "output_type": "stream",
     "text": [
      "{'_id': 1, 'Quantity': 30}\n",
      "{'_id': 2, 'Quantity': 25}\n",
      "{'_id': 3, 'Quantity': 20}\n",
      "{'_id': 5, 'Quantity': 30}\n"
     ]
    }
   ],
   "source": [
    "for x in mycol.find({},{ \"Quantity\": 20 }):\n",
    "    print(x)"
   ]
  },
  {
   "cell_type": "code",
   "execution_count": 33,
   "metadata": {},
   "outputs": [
    {
     "name": "stdout",
     "output_type": "stream",
     "text": [
      "{'_id': ObjectId('5e57761a5c1cdb3fd40709fa'), 'Type': 'Pies', 'Products': 'Chicken', 'Prices': '15', 'Quantity': 1}\n"
     ]
    }
   ],
   "source": [
    "x= mycol1.find({\"Quantity\" : 1})\n",
    "for x in mycol1.find({\"Quantity\" : 1}):\n",
    "    print(x)"
   ]
  },
  {
   "cell_type": "code",
   "execution_count": 34,
   "metadata": {},
   "outputs": [],
   "source": [
    "least_5 = mydb[\"Least Products\"]"
   ]
  },
  {
   "cell_type": "code",
   "execution_count": null,
   "metadata": {},
   "outputs": [],
   "source": []
  }
 ],
 "metadata": {
  "kernelspec": {
   "display_name": "Python 3",
   "language": "python",
   "name": "python3"
  },
  "language_info": {
   "codemirror_mode": {
    "name": "ipython",
    "version": 3
   },
   "file_extension": ".py",
   "mimetype": "text/x-python",
   "name": "python",
   "nbconvert_exporter": "python",
   "pygments_lexer": "ipython3",
   "version": "3.7.4"
  }
 },
 "nbformat": 4,
 "nbformat_minor": 2
}
